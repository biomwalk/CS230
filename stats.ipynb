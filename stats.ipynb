{
 "cells": [
  {
   "cell_type": "code",
   "execution_count": 1,
   "metadata": {
    "collapsed": true
   },
   "outputs": [],
   "source": [
    "import matplotlib.pyplot as plt, numpy as np, fitmodel, ldac\n",
    "%matplotlib inline"
   ]
  },
  {
   "cell_type": "code",
   "execution_count": 2,
   "metadata": {
    "collapsed": true
   },
   "outputs": [],
   "source": [
    "cat1 = ldac.openObjectFile('/afs/ir.stanford.edu/class/physics100/materials/statsHW/prob1.cat', 'OBJECTS')"
   ]
  },
  {
   "cell_type": "code",
   "execution_count": 3,
   "metadata": {},
   "outputs": [
    {
     "data": {
      "text/plain": [
       "['Obs', 'flux', 'fluxerr']"
      ]
     },
     "execution_count": 3,
     "metadata": {},
     "output_type": "execute_result"
    }
   ],
   "source": [
    "cat1.keys()"
   ]
  },
  {
   "cell_type": "code",
   "execution_count": 4,
   "metadata": {},
   "outputs": [
    {
     "data": {
      "text/plain": [
       "30"
      ]
     },
     "execution_count": 4,
     "metadata": {},
     "output_type": "execute_result"
    }
   ],
   "source": [
    "len(cat1)"
   ]
  },
  {
   "cell_type": "code",
   "execution_count": 5,
   "metadata": {
    "collapsed": true
   },
   "outputs": [],
   "source": [
    "Obs = cat1['Obs']\n",
    "flux = cat1['flux'];\n",
    "fluxerr = cat1['fluxerr'];"
   ]
  },
  {
   "cell_type": "markdown",
   "metadata": {},
   "source": [
    "Part I:\n",
    "each cell represents the answer to a part a),b), etc."
   ]
  },
  {
   "cell_type": "code",
   "execution_count": 6,
   "metadata": {},
   "outputs": [
    {
     "name": "stdout",
     "output_type": "stream",
     "text": [
      "19951.5\n"
     ]
    }
   ],
   "source": [
    "unw_mean = np.mean(flux)\n",
    "print unw_mean"
   ]
  },
  {
   "cell_type": "code",
   "execution_count": 7,
   "metadata": {},
   "outputs": [
    {
     "name": "stdout",
     "output_type": "stream",
     "text": [
      "19973.3\n"
     ]
    }
   ],
   "source": [
    "median = np.median(flux)\n",
    "print median"
   ]
  },
  {
   "cell_type": "code",
   "execution_count": 8,
   "metadata": {},
   "outputs": [
    {
     "name": "stdout",
     "output_type": "stream",
     "text": [
      "139.144\n"
     ]
    }
   ],
   "source": [
    "unw_mean_error = np.mean(fluxerr)\n",
    "print unw_mean_error"
   ]
  },
  {
   "cell_type": "code",
   "execution_count": 9,
   "metadata": {},
   "outputs": [
    {
     "name": "stdout",
     "output_type": "stream",
     "text": [
      "16926.2885417\n"
     ]
    }
   ],
   "source": [
    "variance = np.sum((flux - unw_mean)**2) /30   ;\n",
    "print variance"
   ]
  },
  {
   "cell_type": "code",
   "execution_count": 10,
   "metadata": {
    "collapsed": true
   },
   "outputs": [],
   "source": [
    "weight = (flux - unw_mean)**(-2)"
   ]
  },
  {
   "cell_type": "code",
   "execution_count": 11,
   "metadata": {},
   "outputs": [
    {
     "name": "stdout",
     "output_type": "stream",
     "text": [
      "19949.8\n"
     ]
    }
   ],
   "source": [
    "w_mean = (np.sum(weight*flux))/(np.sum(weight))\n",
    "print w_mean"
   ]
  },
  {
   "cell_type": "code",
   "execution_count": 12,
   "metadata": {},
   "outputs": [
    {
     "name": "stdout",
     "output_type": "stream",
     "text": [
      "4.99258\n"
     ]
    }
   ],
   "source": [
    "w_mean_error = np.mean(weight*fluxerr)/np.sum(weight)\n",
    "print w_mean_error"
   ]
  },
  {
   "cell_type": "code",
   "execution_count": 13,
   "metadata": {},
   "outputs": [
    {
     "name": "stdout",
     "output_type": "stream",
     "text": [
      "16929.221875\n"
     ]
    }
   ],
   "source": [
    "w_variance = np.sum((flux - w_mean)**2) /30   ;\n",
    "print w_variance"
   ]
  },
  {
   "cell_type": "markdown",
   "metadata": {},
   "source": [
    "Part II"
   ]
  },
  {
   "cell_type": "markdown",
   "metadata": {},
   "source": [
    "Part a), i) and ii):"
   ]
  },
  {
   "cell_type": "code",
   "execution_count": 14,
   "metadata": {},
   "outputs": [
    {
     "data": {
      "image/png": "[encoded data removed]",
      "text/plain": [
       "<matplotlib.figure.Figure at 0x7fe657018650>"
      ]
     },
     "metadata": {},
     "output_type": "display_data"
    }
   ],
   "source": [
    "plt.hist(flux)\n",
    "plt.title('a) i) Histogram')\n",
    "plt.show()"
   ]
  },
  {
   "cell_type": "code",
   "execution_count": 15,
   "metadata": {},
   "outputs": [
    {
     "data": {
      "text/plain": [
       "<matplotlib.text.Text at 0x7fe654bc0cd0>"
      ]
     },
     "execution_count": 15,
     "metadata": {},
     "output_type": "execute_result"
    },
    {
     "name": "stdout",
     "output_type": "stream",
     "text": [
      "elementwise comparison failed; returning scalar instead, but in the future will perform elementwise comparison\n"
     ]
    },
    {
     "data": {
      "image/png": "[encoded data removed]",
      "text/plain": [
       "<matplotlib.figure.Figure at 0x7fe654b85e50>"
      ]
     },
     "metadata": {},
     "output_type": "display_data"
    }
   ],
   "source": [
    "plt.errorbar(Obs, flux, fluxerr, fmt='bo')\n",
    "plt.xlabel('Observation Time', fontsize=12)\n",
    "plt.ylabel('Measured Flux', fontsize=12)"
   ]
  },
  {
   "cell_type": "markdown",
   "metadata": {},
   "source": [
    "Part II b):"
   ]
  },
  {
   "cell_type": "code",
   "execution_count": 16,
   "metadata": {
    "collapsed": true
   },
   "outputs": [],
   "source": [
    "fit = fitmodel.FitModel(Obs, flux, fluxerr, fitmodel.LinearModel)"
   ]
  },
  {
   "cell_type": "code",
   "execution_count": 17,
   "metadata": {},
   "outputs": [
    {
     "name": "stdout",
     "output_type": "stream",
     "text": [
      "fval = 27.1437, nfcn 36\n",
      "fval = 27.1437, nfcn 26\n",
      "Fit parameters : \n",
      "{'a1': 1.5680547355026038, 'a0': 19929.80211282751}\n"
     ]
    }
   ],
   "source": [
    "fit.fit()"
   ]
  },
  {
   "cell_type": "markdown",
   "metadata": {},
   "source": [
    "i) The best chisq value:"
   ]
  },
  {
   "cell_type": "code",
   "execution_count": 18,
   "metadata": {},
   "outputs": [
    {
     "name": "stdout",
     "output_type": "stream",
     "text": [
      "0.904788489854\n"
     ]
    }
   ],
   "source": [
    "chisq = fit.statval\n",
    "print chisq / 30"
   ]
  },
  {
   "cell_type": "markdown",
   "metadata": {},
   "source": [
    "ii) The probability that the chisq value would be randomly greater than this for our model is 51%:"
   ]
  },
  {
   "cell_type": "code",
   "execution_count": 19,
   "metadata": {},
   "outputs": [
    {
     "name": "stdout",
     "output_type": "stream",
     "text": [
      "0.510434921664\n"
     ]
    }
   ],
   "source": [
    "prob = fitmodel.chisq_exceeds_prob(chisq, len(fit.xdata)-2)\n",
    "print prob"
   ]
  },
  {
   "cell_type": "markdown",
   "metadata": {},
   "source": [
    "2 iv):"
   ]
  },
  {
   "cell_type": "code",
   "execution_count": 20,
   "metadata": {},
   "outputs": [
    {
     "name": "stdout",
     "output_type": "stream",
     "text": [
      "fval = 27.1437, nfcn 22\n",
      "fval = 27.1437, nfcn 20\n",
      "Fit parameters : \n",
      "{'a1': 1.5680547355026038, 'a0': 19929.80211282751}\n"
     ]
    }
   ],
   "source": [
    "fit.fit()"
   ]
  },
  {
   "cell_type": "code",
   "execution_count": 21,
   "metadata": {},
   "outputs": [
    {
     "name": "stdout",
     "output_type": "stream",
     "text": [
      "1 sigma: \n",
      "Hesse errors : \n",
      "{'a1': 2.891363462387529, 'a0': 52.03082271670599}\n",
      "Parameter errors :\n",
      "{'a1': (-2.891363643712059, 2.891363642099613), 'a0': (-52.03082517757412, 52.03082515248167)}\n",
      "2 sigma:\n",
      "Hesse errors : \n",
      "{'a1': 2.891363432529353, 'a0': 52.03082231656432}\n",
      "Parameter errors :\n",
      "{'a1': (-5.782727425896784, 5.782727423746712), 'a0': (-104.06165226310708, 104.061652229648)}\n"
     ]
    }
   ],
   "source": [
    "print '1 sigma: '\n",
    "fit.uncert()\n",
    "print '2 sigma:'\n",
    "fit.uncert(nsigma=2.0)"
   ]
  },
  {
   "cell_type": "markdown",
   "metadata": {},
   "source": [
    "We see that the best parameters are (a1,a0) = (1.57, 19929.80), with the 68% confidence errors (2.89, 52.03) and 95% confidence errors (5.78, 104.06)."
   ]
  },
  {
   "cell_type": "markdown",
   "metadata": {},
   "source": [
    "v) They do, as the average error is approx. pm150, and the error in a0 is pm104."
   ]
  },
  {
   "cell_type": "markdown",
   "metadata": {},
   "source": [
    "c) The constant fit is a0=19929, whereas the mean in Part 1 was 19951.5, and the weighted mean was 19949.8 ."
   ]
  },
  {
   "cell_type": "markdown",
   "metadata": {
    "collapsed": true
   },
   "source": [
    "Part III"
   ]
  },
  {
   "cell_type": "code",
   "execution_count": 22,
   "metadata": {},
   "outputs": [],
   "source": [
    "cat3 = ldac.openObjectFile('/afs/ir.stanford.edu/class/physics100/materials/statsHW/prob3.cat', 'OBJECTS')"
   ]
  },
  {
   "cell_type": "code",
   "execution_count": 23,
   "metadata": {},
   "outputs": [
    {
     "data": {
      "text/plain": [
       "['Obs', 'flux', 'fluxerr', 'plane', 'guard']"
      ]
     },
     "execution_count": 23,
     "metadata": {},
     "output_type": "execute_result"
    }
   ],
   "source": [
    "cat3.keys()"
   ]
  },
  {
   "cell_type": "code",
   "execution_count": 24,
   "metadata": {
    "collapsed": true
   },
   "outputs": [],
   "source": [
    "Obs3 = cat3['Obs']\n",
    "flux3 = cat3['flux'];\n",
    "fluxerr3 = cat3['fluxerr'];"
   ]
  },
  {
   "cell_type": "code",
   "execution_count": 25,
   "metadata": {},
   "outputs": [
    {
     "data": {
      "text/plain": [
       "<matplotlib.text.Text at 0x7fe654b92650>"
      ]
     },
     "execution_count": 25,
     "metadata": {},
     "output_type": "execute_result"
    },
    {
     "data": {
      "image/png": "[encoded data removed]",
      "text/plain": [
       "<matplotlib.figure.Figure at 0x7fe654b6a510>"
      ]
     },
     "metadata": {},
     "output_type": "display_data"
    }
   ],
   "source": [
    "plt.errorbar(Obs3, flux3, fluxerr3, fmt='bo')\n",
    "plt.xlabel('Observation Time', fontsize=12)\n",
    "plt.ylabel('Measured Flux', fontsize=12)"
   ]
  },
  {
   "cell_type": "markdown",
   "metadata": {},
   "source": [
    "We notice we can fit a more or less constant line through the data, albeit with 4 off-beat points, which we will now try to remove."
   ]
  },
  {
   "cell_type": "code",
   "execution_count": 26,
   "metadata": {},
   "outputs": [
    {
     "data": {
      "text/plain": [
       "array([ -601.71679688,    25.15820312,  -574.14648438, -2640.00585938,\n",
       "        -349.65039062,  -820.06835938,  -472.10351562,  2595.0625    ,\n",
       "        -219.84960938,  -152.97460938,  -494.9765625 ,  -463.16015625,\n",
       "        -388.6953125 ,  -142.49609375,  -347.90820312,  3575.53515625,\n",
       "         131.0859375 ,   -95.50976562,  -490.55664062,  -185.1171875 ,\n",
       "        -198.84179688,   -79.00976562,   356.6328125 ,  -104.81640625,\n",
       "         126.98828125,    74.92382812,    22.50976562,   157.26757812,\n",
       "         128.77148438,    50.38867188,   -34.79296875,   179.99023438,\n",
       "        1792.40625   ,  -409.93164062,    49.66992188], dtype=float32)"
      ]
     },
     "execution_count": 26,
     "metadata": {},
     "output_type": "execute_result"
    }
   ],
   "source": [
    "flux3 - np.mean(flux3)"
   ]
  },
  {
   "cell_type": "markdown",
   "metadata": {},
   "source": [
    "We see that numbers 3, 7, 15, and 32 are away from the fitted line."
   ]
  },
  {
   "cell_type": "code",
   "execution_count": 27,
   "metadata": {},
   "outputs": [],
   "source": [
    "flux3n = np.array([ 19982.25976562,  20609.13476562,  20009.83007812,\n",
    "        20234.32617188,  19763.90820312,  20111.87304688, \n",
    "        20364.12695312,  20431.00195312,  20089.        ,  20120.81640625,\n",
    "        20195.28125   ,  20441.48046875,  20236.06835938, \n",
    "        20715.0625    ,  20488.46679688,  20093.41992188,  20398.859375  ,\n",
    "        20385.13476562,  20504.96679688,  20940.609375  ,  20479.16015625,\n",
    "        20710.96484375,  20658.90039062,  20606.48632812,  20741.24414062,\n",
    "        20712.74804688,  20634.36523438,  20549.18359375,  20763.96679688,\n",
    "         20174.04492188,  20633.64648438])"
   ]
  },
  {
   "cell_type": "code",
   "execution_count": 28,
   "metadata": {},
   "outputs": [],
   "source": [
    "Obs3n = np.array([ 1,  2,  3,  4,  5,  6,  7,  8,  9, 10, 11, 12, 13, 14, 15, 16, 17,\n",
    "       18, 19, 20, 21, 22, 23, 24, 25, 26, 27, 28, 29, 30, 31])"
   ]
  },
  {
   "cell_type": "code",
   "execution_count": 29,
   "metadata": {},
   "outputs": [],
   "source": [
    "fluxerr3n= np.array([ 172.32226562,  100.82170868,  130.17703247,\n",
    "        131.75033569,   86.1938858 ,  118.19112396,\n",
    "        124.14914703,  175.12004089,  133.35482788,  125.93624878,\n",
    "        177.06370544,  153.75135803,  120.6158371 ,\n",
    "        207.56411743,  164.42152405,  146.74269104,  168.94770813,\n",
    "        138.79148865,  133.95170593,  109.96796417,  139.24775696,\n",
    "        155.47406006,  118.68584442,   79.00463867,  104.94870758,\n",
    "        181.63783264,  160.68136597,  154.2532959 ,  139.79205322,\n",
    "        203.4548645 ,  170.70794678])"
   ]
  },
  {
   "cell_type": "markdown",
   "metadata": {},
   "source": [
    "III. a) The new graph is:"
   ]
  },
  {
   "cell_type": "code",
   "execution_count": 30,
   "metadata": {},
   "outputs": [
    {
     "data": {
      "text/plain": [
       "<matplotlib.text.Text at 0x7fe654d41610>"
      ]
     },
     "execution_count": 30,
     "metadata": {},
     "output_type": "execute_result"
    },
    {
     "data": {
      "image/png": "[encoded data removed]",
      "text/plain": [
       "<matplotlib.figure.Figure at 0x7fe654afe490>"
      ]
     },
     "metadata": {},
     "output_type": "display_data"
    }
   ],
   "source": [
    "plt.errorbar(Obs3n, flux3n, fluxerr3n, fmt='bo')\n",
    "plt.xlabel('Observation Time', fontsize=12)\n",
    "plt.ylabel('Measured Flux', fontsize=12)"
   ]
  },
  {
   "cell_type": "code",
   "execution_count": 31,
   "metadata": {
    "collapsed": true
   },
   "outputs": [],
   "source": [
    "fit3 = fitmodel.FitModel(Obs3n, flux3n, fluxerr3n, fitmodel.LinearModel)"
   ]
  },
  {
   "cell_type": "code",
   "execution_count": 32,
   "metadata": {},
   "outputs": [
    {
     "name": "stdout",
     "output_type": "stream",
     "text": [
      "fval = 93.2119, nfcn 36\n",
      "fval = 93.2119, nfcn 22\n",
      "Fit parameters : \n",
      "{'a1': 23.017330493035956, 'a0': 20052.058555360898}\n"
     ]
    }
   ],
   "source": [
    "fit3.fit()"
   ]
  },
  {
   "cell_type": "markdown",
   "metadata": {},
   "source": [
    "The best fit parameters are A = 23.017330493035956, B = 20052.058555360898  ."
   ]
  },
  {
   "cell_type": "code",
   "execution_count": 33,
   "metadata": {},
   "outputs": [
    {
     "name": "stdout",
     "output_type": "stream",
     "text": [
      "2.663197458\n"
     ]
    }
   ],
   "source": [
    "chisq3 = fit3.statval\n",
    "print chisq3 / 35"
   ]
  },
  {
   "cell_type": "code",
   "execution_count": 34,
   "metadata": {},
   "outputs": [
    {
     "name": "stdout",
     "output_type": "stream",
     "text": [
      "1.15716109252e-08\n"
     ]
    }
   ],
   "source": [
    "prob3 = fitmodel.chisq_exceeds_prob(chisq3, len(fit3.xdata)-2)\n",
    "print prob3"
   ]
  },
  {
   "cell_type": "code",
   "execution_count": 35,
   "metadata": {},
   "outputs": [
    {
     "name": "stdout",
     "output_type": "stream",
     "text": [
      "1 sigma: \n",
      "Hesse errors : \n",
      "{'a1': 2.6439982815752527, 'a0': 46.83393821454298}\n",
      "Parameter errors :\n",
      "{'a1': (-2.643998352038001, 2.6439983526805073), 'a0': (-46.83393941533881, 46.83393942853668)}\n",
      "2 sigma:\n",
      "Hesse errors : \n",
      "{'a1': 2.6439982839184446, 'a0': 46.83393846053809}\n",
      "Parameter errors :\n",
      "{'a1': (-5.2879967153133265, 5.287996716170316), 'a0': (-93.66787900733642, 93.66787902492027)}\n"
     ]
    }
   ],
   "source": [
    "print '1 sigma: '\n",
    "fit3.uncert()\n",
    "print '2 sigma:'\n",
    "fit3.uncert(nsigma=2.0)"
   ]
  },
  {
   "cell_type": "markdown",
   "metadata": {},
   "source": [
    "III. C) D) We see the probability for chi to be modified by random fluctuations is  1.15716109252e-08, extremely small. The 1sigma and 2sigma errors are also very small, compared to the absolute value."
   ]
  },
  {
   "cell_type": "markdown",
   "metadata": {},
   "source": [
    "III. E) If we plot Log(flux) as a function of time, then indeed the chisq test is reliable."
   ]
  },
  {
   "cell_type": "markdown",
   "metadata": {},
   "source": [
    "Part IV."
   ]
  },
  {
   "cell_type": "code",
   "execution_count": 36,
   "metadata": {},
   "outputs": [],
   "source": [
    "cat4 = ldac.openObjectFile('/afs/ir.stanford.edu/class/physics100/materials/statsHW/prob4.cat', 'OBJECTS')"
   ]
  },
  {
   "cell_type": "code",
   "execution_count": 37,
   "metadata": {},
   "outputs": [
    {
     "data": {
      "text/plain": [
       "['mass1', 'mass2', 'mass2err']"
      ]
     },
     "execution_count": 37,
     "metadata": {},
     "output_type": "execute_result"
    }
   ],
   "source": [
    "cat4.keys()"
   ]
  },
  {
   "cell_type": "code",
   "execution_count": 38,
   "metadata": {},
   "outputs": [],
   "source": [
    "mass1 = cat4['mass1']\n",
    "mass2 = cat4['mass2']\n",
    "mass2err = cat4['mass2err']"
   ]
  },
  {
   "cell_type": "code",
   "execution_count": 39,
   "metadata": {},
   "outputs": [
    {
     "data": {
      "text/plain": [
       "<matplotlib.text.Text at 0x7fe6549f2f10>"
      ]
     },
     "execution_count": 39,
     "metadata": {},
     "output_type": "execute_result"
    },
    {
     "data": {
      "image/png": "[encoded data removed]",
      "text/plain": [
       "<matplotlib.figure.Figure at 0x7fe654a45550>"
      ]
     },
     "metadata": {},
     "output_type": "display_data"
    }
   ],
   "source": [
    "plt.errorbar(mass1, mass2, mass2err, fmt='bo')\n",
    "plt.xlabel('Mass 1', fontsize=12)\n",
    "plt.ylabel('Mass 2', fontsize=12)"
   ]
  },
  {
   "cell_type": "markdown",
   "metadata": {},
   "source": [
    "4.a) We would expect that m1 and m2 vary linearly with each other (with a proportionaly constant close to 1), and a small constant factor.\n",
    "\n",
    "4.b) We indeed see that a1=1.0955223869773536 and a0= -0.09785081059701362 below:"
   ]
  },
  {
   "cell_type": "code",
   "execution_count": 40,
   "metadata": {
    "collapsed": true
   },
   "outputs": [],
   "source": [
    "fit4 = fitmodel.FitModel(mass1, mass2, mass2err, fitmodel.LinearModel)"
   ]
  },
  {
   "cell_type": "code",
   "execution_count": 41,
   "metadata": {},
   "outputs": [
    {
     "name": "stdout",
     "output_type": "stream",
     "text": [
      "fval = 62.5238, nfcn 32\n",
      "fval = 62.5238, nfcn 20\n",
      "Fit parameters : \n",
      "{'a1': 1.0955223869773536, 'a0': -0.09785081059701362}\n"
     ]
    }
   ],
   "source": [
    "fit4.fit()"
   ]
  },
  {
   "cell_type": "code",
   "execution_count": 44,
   "metadata": {},
   "outputs": [
    {
     "name": "stdout",
     "output_type": "stream",
     "text": [
      "2.50095069674\n"
     ]
    }
   ],
   "source": [
    "chisq4 = fit4.statval\n",
    "print chisq4 /  25"
   ]
  },
  {
   "cell_type": "code",
   "execution_count": null,
   "metadata": {},
   "outputs": [],
   "source": [
    "prob4 = fitmodel.chisq_exceeds_prob(chisq4, len(fit4.xdata)-2)\n",
    "print prob4"
   ]
  },
  {
   "cell_type": "markdown",
   "metadata": {},
   "source": [
    "Both the chisq value and the probability for it to change due to random fluctuations is small, so the constant+linear term is a good description."
   ]
  }
 ],
 "metadata": {
  "kernelspec": {
   "display_name": "Python 2",
   "language": "python",
   "name": "python2"
  },
  "language_info": {
   "codemirror_mode": {
    "name": "ipython",
    "version": 2
   },
   "file_extension": ".py",
   "mimetype": "text/x-python",
   "name": "python",
   "nbconvert_exporter": "python",
   "pygments_lexer": "ipython2",
   "version": "2.7.6"
  }
 },
 "nbformat": 4,
 "nbformat_minor": 2
}
